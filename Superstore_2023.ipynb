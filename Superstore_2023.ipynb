{
    "cells": [
        {
            "cell_type": "code",
            "execution_count": 1,
            "metadata": {},
            "outputs": [
                {
                    "data": {
                        "text/html": "<div>\n<style scoped>\n    .dataframe tbody tr th:only-of-type {\n        vertical-align: middle;\n    }\n\n    .dataframe tbody tr th {\n        vertical-align: top;\n    }\n\n    .dataframe thead th {\n        text-align: right;\n    }\n</style>\n<table border=\"1\" class=\"dataframe\">\n  <thead>\n    <tr style=\"text-align: right;\">\n      <th></th>\n      <th>Category</th>\n      <th>City</th>\n      <th>Country/Region</th>\n      <th>Customer ID</th>\n      <th>Customer Name</th>\n      <th>Order Date</th>\n      <th>Order ID</th>\n      <th>Order Profitable?</th>\n      <th>Postal Code</th>\n      <th>Product ID</th>\n      <th>...</th>\n      <th>Ship Status</th>\n      <th>State</th>\n      <th>Sub-Category</th>\n      <th>Days to Ship Actual</th>\n      <th>Days to Ship Scheduled</th>\n      <th>Discount</th>\n      <th>Profit</th>\n      <th>Quantity</th>\n      <th>Sales</th>\n      <th>Sales Forecast</th>\n    </tr>\n  </thead>\n  <tbody>\n    <tr>\n      <th>0</th>\n      <td>Furniture</td>\n      <td>Henderson</td>\n      <td>United States</td>\n      <td>CG-12520</td>\n      <td>Claire Gute</td>\n      <td>8/11/2021</td>\n      <td>CA-2021-152156</td>\n      <td>Profitable</td>\n      <td>42420.0</td>\n      <td>FUR-BO-10001798</td>\n      <td>...</td>\n      <td>Shipped On Time</td>\n      <td>Kentucky</td>\n      <td>Bookcases</td>\n      <td>3</td>\n      <td>3</td>\n      <td>0.00%</td>\n      <td>42</td>\n      <td>2</td>\n      <td>262</td>\n      <td>392</td>\n    </tr>\n    <tr>\n      <th>1</th>\n      <td>Furniture</td>\n      <td>Henderson</td>\n      <td>United States</td>\n      <td>CG-12520</td>\n      <td>Claire Gute</td>\n      <td>8/11/2021</td>\n      <td>CA-2021-152156</td>\n      <td>Profitable</td>\n      <td>42420.0</td>\n      <td>FUR-CH-10000454</td>\n      <td>...</td>\n      <td>Shipped On Time</td>\n      <td>Kentucky</td>\n      <td>Chairs</td>\n      <td>3</td>\n      <td>3</td>\n      <td>0.00%</td>\n      <td>220</td>\n      <td>3</td>\n      <td>732</td>\n      <td>1096</td>\n    </tr>\n    <tr>\n      <th>2</th>\n      <td>Office Supplies</td>\n      <td>Los Angeles</td>\n      <td>United States</td>\n      <td>DV-13045</td>\n      <td>Darrin Van Huff</td>\n      <td>12/06/2021</td>\n      <td>CA-2021-138688</td>\n      <td>Profitable</td>\n      <td>90036.0</td>\n      <td>OFF-LA-10000240</td>\n      <td>...</td>\n      <td>Shipped Late</td>\n      <td>California</td>\n      <td>Labels</td>\n      <td>4</td>\n      <td>3</td>\n      <td>0.00%</td>\n      <td>7</td>\n      <td>2</td>\n      <td>15</td>\n      <td>22</td>\n    </tr>\n    <tr>\n      <th>3</th>\n      <td>Furniture</td>\n      <td>Fort Lauderdale</td>\n      <td>United States</td>\n      <td>SO-20335</td>\n      <td>Sean O'Donnell</td>\n      <td>11/10/2020</td>\n      <td>US-2020-108966</td>\n      <td>Unprofitable</td>\n      <td>33311.0</td>\n      <td>FUR-TA-10000577</td>\n      <td>...</td>\n      <td>Shipped Late</td>\n      <td>Florida</td>\n      <td>Tables</td>\n      <td>7</td>\n      <td>6</td>\n      <td>45.00%</td>\n      <td>-383</td>\n      <td>5</td>\n      <td>958</td>\n      <td>1434</td>\n    </tr>\n    <tr>\n      <th>4</th>\n      <td>Office Supplies</td>\n      <td>Fort Lauderdale</td>\n      <td>United States</td>\n      <td>SO-20335</td>\n      <td>Sean O'Donnell</td>\n      <td>11/10/2020</td>\n      <td>US-2020-108966</td>\n      <td>Unprofitable</td>\n      <td>33311.0</td>\n      <td>OFF-ST-10000760</td>\n      <td>...</td>\n      <td>Shipped Late</td>\n      <td>Florida</td>\n      <td>Storage</td>\n      <td>7</td>\n      <td>6</td>\n      <td>20.00%</td>\n      <td>3</td>\n      <td>2</td>\n      <td>22</td>\n      <td>33</td>\n    </tr>\n  </tbody>\n</table>\n<p>5 rows \u00d7 26 columns</p>\n</div>",
                        "text/plain": "          Category             City Country/Region Customer ID  \\\n0        Furniture        Henderson  United States    CG-12520   \n1        Furniture        Henderson  United States    CG-12520   \n2  Office Supplies      Los Angeles  United States    DV-13045   \n3        Furniture  Fort Lauderdale  United States    SO-20335   \n4  Office Supplies  Fort Lauderdale  United States    SO-20335   \n\n     Customer Name  Order Date        Order ID Order Profitable?  Postal Code  \\\n0      Claire Gute   8/11/2021  CA-2021-152156        Profitable      42420.0   \n1      Claire Gute   8/11/2021  CA-2021-152156        Profitable      42420.0   \n2  Darrin Van Huff  12/06/2021  CA-2021-138688        Profitable      90036.0   \n3   Sean O'Donnell  11/10/2020  US-2020-108966      Unprofitable      33311.0   \n4   Sean O'Donnell  11/10/2020  US-2020-108966      Unprofitable      33311.0   \n\n        Product ID  ...      Ship Status       State  Sub-Category  \\\n0  FUR-BO-10001798  ...  Shipped On Time    Kentucky     Bookcases   \n1  FUR-CH-10000454  ...  Shipped On Time    Kentucky        Chairs   \n2  OFF-LA-10000240  ...     Shipped Late  California        Labels   \n3  FUR-TA-10000577  ...     Shipped Late     Florida        Tables   \n4  OFF-ST-10000760  ...     Shipped Late     Florida       Storage   \n\n  Days to Ship Actual Days to Ship Scheduled Discount Profit Quantity Sales  \\\n0                   3                      3    0.00%     42        2   262   \n1                   3                      3    0.00%    220        3   732   \n2                   4                      3    0.00%      7        2    15   \n3                   7                      6   45.00%   -383        5   958   \n4                   7                      6   20.00%      3        2    22   \n\n   Sales Forecast  \n0             392  \n1            1096  \n2              22  \n3            1434  \n4              33  \n\n[5 rows x 26 columns]"
                    },
                    "execution_count": 1,
                    "metadata": {},
                    "output_type": "execute_result"
                }
            ],
            "source": "# The code was removed by Watson Studio for sharing."
        },
        {
            "cell_type": "code",
            "execution_count": null,
            "metadata": {},
            "outputs": [],
            "source": ""
        }
    ],
    "metadata": {
        "kernelspec": {
            "display_name": "Python 3.10",
            "language": "python",
            "name": "python3"
        },
        "language_info": {
            "codemirror_mode": {
                "name": "ipython",
                "version": 3
            },
            "file_extension": ".py",
            "mimetype": "text/x-python",
            "name": "python",
            "nbconvert_exporter": "python",
            "pygments_lexer": "ipython3",
            "version": "3.10.13"
        }
    },
    "nbformat": 4,
    "nbformat_minor": 1
}